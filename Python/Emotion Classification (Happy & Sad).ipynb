{
 "cells": [
  {
   "cell_type": "markdown",
   "metadata": {},
   "source": [
    "# Emotion Classification Through Selected Top Face Action Units\n",
    "\n",
    "##### by Atharva Manjrekar"
   ]
  },
  {
   "cell_type": "code",
   "execution_count": 86,
   "metadata": {},
   "outputs": [],
   "source": [
    "import pandas as pd\n",
    "import numpy as np\n",
    "import seaborn as sb"
   ]
  },
  {
   "cell_type": "markdown",
   "metadata": {},
   "source": [
    "### Read data from the attached .csv file"
   ]
  },
  {
   "cell_type": "code",
   "execution_count": 87,
   "metadata": {},
   "outputs": [],
   "source": [
    "# Read data from csv file which contains all AU's for Happy and Sad\n",
    "# Note that within the csv file, 1 denotes Happy and 0 denotes Sad. There are 192 unique observations between both sexes\n",
    "\n",
    "data = pd.read_csv('C:/Users/2017a/Documents/CSE5825 Homework/All Sexes Sad(0) Happy(1).csv', engine='python')"
   ]
  },
  {
   "cell_type": "markdown",
   "metadata": {},
   "source": [
    "### Ready to drop columns"
   ]
  },
  {
   "cell_type": "code",
   "execution_count": 88,
   "metadata": {},
   "outputs": [],
   "source": [
    "# Since we are dealing with AUs from the top face only, we can drop all AUs that represent the bottom face\n",
    "# Additionally, we will also drop AU5, AU7 and AU10 as they are not appropriate for our targeted emotions (Happy and Sad)\n",
    "\n",
    "cols_to_drop = ['AU05_r','AU07_r','AU10_r','AU12_r','AU14_r','AU15_r','AU17_r','AU20_r','AU23_r','AU25_r','AU26_r']\n",
    "data = data.drop(cols_to_drop, axis=1)\n",
    "\n",
    "\n",
    "# The csv file contains 192 unique observations for both sexes. Let's read the first 10 rows\n",
    "# data.head(10)"
   ]
  },
  {
   "cell_type": "markdown",
   "metadata": {},
   "source": [
    "### Visualize data types and any null variables"
   ]
  },
  {
   "cell_type": "code",
   "execution_count": 89,
   "metadata": {},
   "outputs": [
    {
     "name": "stdout",
     "output_type": "stream",
     "text": [
      "<class 'pandas.core.frame.DataFrame'>\n",
      "RangeIndex: 192 entries, 0 to 191\n",
      "Data columns (total 8 columns):\n",
      " #   Column   Non-Null Count  Dtype  \n",
      "---  ------   --------------  -----  \n",
      " 0   Emotion  192 non-null    int64  \n",
      " 1   Sex      192 non-null    object \n",
      " 2   AU01_r   192 non-null    float64\n",
      " 3   AU02_r   192 non-null    float64\n",
      " 4   AU04_r   192 non-null    float64\n",
      " 5   AU06_r   192 non-null    float64\n",
      " 6   AU09_r   192 non-null    float64\n",
      " 7   AU45_r   192 non-null    float64\n",
      "dtypes: float64(6), int64(1), object(1)\n",
      "memory usage: 12.1+ KB\n"
     ]
    },
    {
     "data": {
      "image/png": "[encoded data removed]",
      "text/plain": [
       "<Figure size 432x288 with 2 Axes>"
      ]
     },
     "metadata": {
      "needs_background": "light"
     },
     "output_type": "display_data"
    }
   ],
   "source": [
    "# Here, we can visualize what values are null as well as what data type each column represent\n",
    "\n",
    "sb.heatmap(data.isnull())\n",
    "data.info()"
   ]
  },
  {
   "cell_type": "markdown",
   "metadata": {},
   "source": [
    "### Replacing any object data types"
   ]
  },
  {
   "cell_type": "code",
   "execution_count": 90,
   "metadata": {},
   "outputs": [
    {
     "data": {
      "text/html": [
       "<div>\n",
       "<style scoped>\n",
       "    .dataframe tbody tr th:only-of-type {\n",
       "        vertical-align: middle;\n",
       "    }\n",
       "\n",
       "    .dataframe tbody tr th {\n",
       "        vertical-align: top;\n",
       "    }\n",
       "\n",
       "    .dataframe thead th {\n",
       "        text-align: right;\n",
       "    }\n",
       "</style>\n",
       "<table border=\"1\" class=\"dataframe\">\n",
       "  <thead>\n",
       "    <tr style=\"text-align: right;\">\n",
       "      <th></th>\n",
       "      <th>Emotion</th>\n",
       "      <th>Sex</th>\n",
       "      <th>AU01_r</th>\n",
       "      <th>AU02_r</th>\n",
       "      <th>AU04_r</th>\n",
       "      <th>AU06_r</th>\n",
       "      <th>AU09_r</th>\n",
       "      <th>AU45_r</th>\n",
       "      <th>F</th>\n",
       "      <th>M</th>\n",
       "    </tr>\n",
       "  </thead>\n",
       "  <tbody>\n",
       "    <tr>\n",
       "      <th>0</th>\n",
       "      <td>1</td>\n",
       "      <td>F</td>\n",
       "      <td>0.000000</td>\n",
       "      <td>0.054352</td>\n",
       "      <td>0.064815</td>\n",
       "      <td>0.814074</td>\n",
       "      <td>0.488148</td>\n",
       "      <td>0.121481</td>\n",
       "      <td>1</td>\n",
       "      <td>0</td>\n",
       "    </tr>\n",
       "    <tr>\n",
       "      <th>1</th>\n",
       "      <td>1</td>\n",
       "      <td>F</td>\n",
       "      <td>0.832952</td>\n",
       "      <td>1.207619</td>\n",
       "      <td>0.004000</td>\n",
       "      <td>1.197143</td>\n",
       "      <td>1.073714</td>\n",
       "      <td>0.716476</td>\n",
       "      <td>1</td>\n",
       "      <td>0</td>\n",
       "    </tr>\n",
       "    <tr>\n",
       "      <th>2</th>\n",
       "      <td>1</td>\n",
       "      <td>F</td>\n",
       "      <td>0.058952</td>\n",
       "      <td>0.017048</td>\n",
       "      <td>0.417810</td>\n",
       "      <td>1.778381</td>\n",
       "      <td>0.394571</td>\n",
       "      <td>0.378190</td>\n",
       "      <td>1</td>\n",
       "      <td>0</td>\n",
       "    </tr>\n",
       "    <tr>\n",
       "      <th>3</th>\n",
       "      <td>1</td>\n",
       "      <td>F</td>\n",
       "      <td>0.887143</td>\n",
       "      <td>1.542762</td>\n",
       "      <td>0.005905</td>\n",
       "      <td>1.533048</td>\n",
       "      <td>0.865333</td>\n",
       "      <td>1.576095</td>\n",
       "      <td>1</td>\n",
       "      <td>0</td>\n",
       "    </tr>\n",
       "    <tr>\n",
       "      <th>4</th>\n",
       "      <td>1</td>\n",
       "      <td>F</td>\n",
       "      <td>0.713714</td>\n",
       "      <td>1.944952</td>\n",
       "      <td>0.000000</td>\n",
       "      <td>0.447905</td>\n",
       "      <td>0.161524</td>\n",
       "      <td>0.470857</td>\n",
       "      <td>1</td>\n",
       "      <td>0</td>\n",
       "    </tr>\n",
       "    <tr>\n",
       "      <th>5</th>\n",
       "      <td>1</td>\n",
       "      <td>F</td>\n",
       "      <td>0.481273</td>\n",
       "      <td>0.015273</td>\n",
       "      <td>0.054455</td>\n",
       "      <td>0.947364</td>\n",
       "      <td>0.197909</td>\n",
       "      <td>0.426000</td>\n",
       "      <td>1</td>\n",
       "      <td>0</td>\n",
       "    </tr>\n",
       "    <tr>\n",
       "      <th>6</th>\n",
       "      <td>1</td>\n",
       "      <td>F</td>\n",
       "      <td>0.116909</td>\n",
       "      <td>0.014818</td>\n",
       "      <td>0.171182</td>\n",
       "      <td>1.010273</td>\n",
       "      <td>0.578545</td>\n",
       "      <td>0.493000</td>\n",
       "      <td>1</td>\n",
       "      <td>0</td>\n",
       "    </tr>\n",
       "    <tr>\n",
       "      <th>7</th>\n",
       "      <td>1</td>\n",
       "      <td>F</td>\n",
       "      <td>0.000000</td>\n",
       "      <td>0.141351</td>\n",
       "      <td>0.000000</td>\n",
       "      <td>2.088468</td>\n",
       "      <td>0.937207</td>\n",
       "      <td>0.962523</td>\n",
       "      <td>1</td>\n",
       "      <td>0</td>\n",
       "    </tr>\n",
       "    <tr>\n",
       "      <th>8</th>\n",
       "      <td>1</td>\n",
       "      <td>F</td>\n",
       "      <td>0.481569</td>\n",
       "      <td>1.448431</td>\n",
       "      <td>0.011961</td>\n",
       "      <td>1.261863</td>\n",
       "      <td>0.378431</td>\n",
       "      <td>0.769902</td>\n",
       "      <td>1</td>\n",
       "      <td>0</td>\n",
       "    </tr>\n",
       "    <tr>\n",
       "      <th>9</th>\n",
       "      <td>1</td>\n",
       "      <td>F</td>\n",
       "      <td>1.191038</td>\n",
       "      <td>2.081887</td>\n",
       "      <td>0.001132</td>\n",
       "      <td>0.419623</td>\n",
       "      <td>0.233774</td>\n",
       "      <td>0.616698</td>\n",
       "      <td>1</td>\n",
       "      <td>0</td>\n",
       "    </tr>\n",
       "  </tbody>\n",
       "</table>\n",
       "</div>"
      ],
      "text/plain": [
       "   Emotion Sex    AU01_r    AU02_r    AU04_r    AU06_r    AU09_r    AU45_r  F  \\\n",
       "0        1   F  0.000000  0.054352  0.064815  0.814074  0.488148  0.121481  1   \n",
       "1        1   F  0.832952  1.207619  0.004000  1.197143  1.073714  0.716476  1   \n",
       "2        1   F  0.058952  0.017048  0.417810  1.778381  0.394571  0.378190  1   \n",
       "3        1   F  0.887143  1.542762  0.005905  1.533048  0.865333  1.576095  1   \n",
       "4        1   F  0.713714  1.944952  0.000000  0.447905  0.161524  0.470857  1   \n",
       "5        1   F  0.481273  0.015273  0.054455  0.947364  0.197909  0.426000  1   \n",
       "6        1   F  0.116909  0.014818  0.171182  1.010273  0.578545  0.493000  1   \n",
       "7        1   F  0.000000  0.141351  0.000000  2.088468  0.937207  0.962523  1   \n",
       "8        1   F  0.481569  1.448431  0.011961  1.261863  0.378431  0.769902  1   \n",
       "9        1   F  1.191038  2.081887  0.001132  0.419623  0.233774  0.616698  1   \n",
       "\n",
       "   M  \n",
       "0  0  \n",
       "1  0  \n",
       "2  0  \n",
       "3  0  \n",
       "4  0  \n",
       "5  0  \n",
       "6  0  \n",
       "7  0  \n",
       "8  0  \n",
       "9  0  "
      ]
     },
     "execution_count": 90,
     "metadata": {},
     "output_type": "execute_result"
    }
   ],
   "source": [
    "# We have to convert categorical columns to binary values\n",
    "# We can create dummy columns for the columns we want to convert...concatenate it with our data and then drop them\n",
    "# Here, the column for Sex is an object data type\n",
    "\n",
    "SexDummy = pd.get_dummies(data['Sex'])\n",
    "data=pd.concat((data, SexDummy), axis=1)\n",
    "data.head(10)"
   ]
  },
  {
   "cell_type": "markdown",
   "metadata": {},
   "source": [
    "### Dropping any object data types after they are concatenated"
   ]
  },
  {
   "cell_type": "code",
   "execution_count": 91,
   "metadata": {},
   "outputs": [
    {
     "data": {
      "text/html": [
       "<div>\n",
       "<style scoped>\n",
       "    .dataframe tbody tr th:only-of-type {\n",
       "        vertical-align: middle;\n",
       "    }\n",
       "\n",
       "    .dataframe tbody tr th {\n",
       "        vertical-align: top;\n",
       "    }\n",
       "\n",
       "    .dataframe thead th {\n",
       "        text-align: right;\n",
       "    }\n",
       "</style>\n",
       "<table border=\"1\" class=\"dataframe\">\n",
       "  <thead>\n",
       "    <tr style=\"text-align: right;\">\n",
       "      <th></th>\n",
       "      <th>Emotion</th>\n",
       "      <th>AU01_r</th>\n",
       "      <th>AU02_r</th>\n",
       "      <th>AU04_r</th>\n",
       "      <th>AU06_r</th>\n",
       "      <th>AU09_r</th>\n",
       "      <th>AU45_r</th>\n",
       "      <th>F</th>\n",
       "      <th>M</th>\n",
       "    </tr>\n",
       "  </thead>\n",
       "  <tbody>\n",
       "    <tr>\n",
       "      <th>0</th>\n",
       "      <td>1</td>\n",
       "      <td>0.000000</td>\n",
       "      <td>0.054352</td>\n",
       "      <td>0.064815</td>\n",
       "      <td>0.814074</td>\n",
       "      <td>0.488148</td>\n",
       "      <td>0.121481</td>\n",
       "      <td>1</td>\n",
       "      <td>0</td>\n",
       "    </tr>\n",
       "    <tr>\n",
       "      <th>1</th>\n",
       "      <td>1</td>\n",
       "      <td>0.832952</td>\n",
       "      <td>1.207619</td>\n",
       "      <td>0.004000</td>\n",
       "      <td>1.197143</td>\n",
       "      <td>1.073714</td>\n",
       "      <td>0.716476</td>\n",
       "      <td>1</td>\n",
       "      <td>0</td>\n",
       "    </tr>\n",
       "    <tr>\n",
       "      <th>2</th>\n",
       "      <td>1</td>\n",
       "      <td>0.058952</td>\n",
       "      <td>0.017048</td>\n",
       "      <td>0.417810</td>\n",
       "      <td>1.778381</td>\n",
       "      <td>0.394571</td>\n",
       "      <td>0.378190</td>\n",
       "      <td>1</td>\n",
       "      <td>0</td>\n",
       "    </tr>\n",
       "    <tr>\n",
       "      <th>3</th>\n",
       "      <td>1</td>\n",
       "      <td>0.887143</td>\n",
       "      <td>1.542762</td>\n",
       "      <td>0.005905</td>\n",
       "      <td>1.533048</td>\n",
       "      <td>0.865333</td>\n",
       "      <td>1.576095</td>\n",
       "      <td>1</td>\n",
       "      <td>0</td>\n",
       "    </tr>\n",
       "    <tr>\n",
       "      <th>4</th>\n",
       "      <td>1</td>\n",
       "      <td>0.713714</td>\n",
       "      <td>1.944952</td>\n",
       "      <td>0.000000</td>\n",
       "      <td>0.447905</td>\n",
       "      <td>0.161524</td>\n",
       "      <td>0.470857</td>\n",
       "      <td>1</td>\n",
       "      <td>0</td>\n",
       "    </tr>\n",
       "    <tr>\n",
       "      <th>5</th>\n",
       "      <td>1</td>\n",
       "      <td>0.481273</td>\n",
       "      <td>0.015273</td>\n",
       "      <td>0.054455</td>\n",
       "      <td>0.947364</td>\n",
       "      <td>0.197909</td>\n",
       "      <td>0.426000</td>\n",
       "      <td>1</td>\n",
       "      <td>0</td>\n",
       "    </tr>\n",
       "    <tr>\n",
       "      <th>6</th>\n",
       "      <td>1</td>\n",
       "      <td>0.116909</td>\n",
       "      <td>0.014818</td>\n",
       "      <td>0.171182</td>\n",
       "      <td>1.010273</td>\n",
       "      <td>0.578545</td>\n",
       "      <td>0.493000</td>\n",
       "      <td>1</td>\n",
       "      <td>0</td>\n",
       "    </tr>\n",
       "    <tr>\n",
       "      <th>7</th>\n",
       "      <td>1</td>\n",
       "      <td>0.000000</td>\n",
       "      <td>0.141351</td>\n",
       "      <td>0.000000</td>\n",
       "      <td>2.088468</td>\n",
       "      <td>0.937207</td>\n",
       "      <td>0.962523</td>\n",
       "      <td>1</td>\n",
       "      <td>0</td>\n",
       "    </tr>\n",
       "    <tr>\n",
       "      <th>8</th>\n",
       "      <td>1</td>\n",
       "      <td>0.481569</td>\n",
       "      <td>1.448431</td>\n",
       "      <td>0.011961</td>\n",
       "      <td>1.261863</td>\n",
       "      <td>0.378431</td>\n",
       "      <td>0.769902</td>\n",
       "      <td>1</td>\n",
       "      <td>0</td>\n",
       "    </tr>\n",
       "    <tr>\n",
       "      <th>9</th>\n",
       "      <td>1</td>\n",
       "      <td>1.191038</td>\n",
       "      <td>2.081887</td>\n",
       "      <td>0.001132</td>\n",
       "      <td>0.419623</td>\n",
       "      <td>0.233774</td>\n",
       "      <td>0.616698</td>\n",
       "      <td>1</td>\n",
       "      <td>0</td>\n",
       "    </tr>\n",
       "  </tbody>\n",
       "</table>\n",
       "</div>"
      ],
      "text/plain": [
       "   Emotion    AU01_r    AU02_r    AU04_r    AU06_r    AU09_r    AU45_r  F  M\n",
       "0        1  0.000000  0.054352  0.064815  0.814074  0.488148  0.121481  1  0\n",
       "1        1  0.832952  1.207619  0.004000  1.197143  1.073714  0.716476  1  0\n",
       "2        1  0.058952  0.017048  0.417810  1.778381  0.394571  0.378190  1  0\n",
       "3        1  0.887143  1.542762  0.005905  1.533048  0.865333  1.576095  1  0\n",
       "4        1  0.713714  1.944952  0.000000  0.447905  0.161524  0.470857  1  0\n",
       "5        1  0.481273  0.015273  0.054455  0.947364  0.197909  0.426000  1  0\n",
       "6        1  0.116909  0.014818  0.171182  1.010273  0.578545  0.493000  1  0\n",
       "7        1  0.000000  0.141351  0.000000  2.088468  0.937207  0.962523  1  0\n",
       "8        1  0.481569  1.448431  0.011961  1.261863  0.378431  0.769902  1  0\n",
       "9        1  1.191038  2.081887  0.001132  0.419623  0.233774  0.616698  1  0"
      ]
     },
     "execution_count": 91,
     "metadata": {},
     "output_type": "execute_result"
    }
   ],
   "source": [
    "data = data.drop(['Sex'], axis=1)\n",
    "data.head(10)\n",
    "\n",
    "# Column Emotion: Happy=1, Sad=0\n",
    "# Column F = Female = 1\n",
    "# Column M = Male = 0"
   ]
  },
  {
   "cell_type": "markdown",
   "metadata": {},
   "source": [
    "### Creating a targeted column"
   ]
  },
  {
   "cell_type": "code",
   "execution_count": 92,
   "metadata": {},
   "outputs": [],
   "source": [
    "# The column for Emotion will be our target variable\n",
    "\n",
    "x = data.values\n",
    "y = data['Emotion'].values"
   ]
  },
  {
   "cell_type": "code",
   "execution_count": 93,
   "metadata": {},
   "outputs": [],
   "source": [
    "# We don't want our choosen y values in the x values\n",
    "# So we delete the Emotion column from x values\n",
    "\n",
    "x = np.delete(x,0,axis=1)"
   ]
  },
  {
   "cell_type": "markdown",
   "metadata": {},
   "source": [
    "### Splitting Data"
   ]
  },
  {
   "cell_type": "code",
   "execution_count": 94,
   "metadata": {},
   "outputs": [],
   "source": [
    "from sklearn.model_selection import train_test_split\n",
    "from sklearn import metrics\n",
    "\n",
    "# Split into 80% training and 20% testing\n",
    "x_train, x_test, y_train, y_test = train_test_split(x,y,test_size=0.2,random_state=0)"
   ]
  },
  {
   "cell_type": "code",
   "execution_count": 95,
   "metadata": {},
   "outputs": [
    {
     "data": {
      "text/plain": [
       "0.41025641025641024"
      ]
     },
     "execution_count": 95,
     "metadata": {},
     "output_type": "execute_result"
    }
   ],
   "source": [
    "y_test.mean()"
   ]
  },
  {
   "cell_type": "markdown",
   "metadata": {},
   "source": [
    "### Gaussian Naive Bayes"
   ]
  },
  {
   "cell_type": "code",
   "execution_count": 96,
   "metadata": {},
   "outputs": [
    {
     "data": {
      "text/plain": [
       "0.8205128205128205"
      ]
     },
     "execution_count": 96,
     "metadata": {},
     "output_type": "execute_result"
    }
   ],
   "source": [
    "from sklearn.naive_bayes import GaussianNB\n",
    "\n",
    "nb = GaussianNB()\n",
    "nb.fit(x_train, y_train)\n",
    "nb.score(x_test, y_test)"
   ]
  },
  {
   "cell_type": "markdown",
   "metadata": {},
   "source": [
    "### Logistic Regression"
   ]
  },
  {
   "cell_type": "code",
   "execution_count": 97,
   "metadata": {},
   "outputs": [
    {
     "data": {
      "text/plain": [
       "0.8974358974358975"
      ]
     },
     "execution_count": 97,
     "metadata": {},
     "output_type": "execute_result"
    }
   ],
   "source": [
    "from sklearn.linear_model import LogisticRegression\n",
    "\n",
    "lr = LogisticRegression()\n",
    "lr.fit(x_train, y_train)\n",
    "lr.score(x_test,y_test)"
   ]
  },
  {
   "cell_type": "markdown",
   "metadata": {},
   "source": [
    "### SVM"
   ]
  },
  {
   "cell_type": "code",
   "execution_count": 98,
   "metadata": {},
   "outputs": [
    {
     "data": {
      "text/plain": [
       "0.9743589743589743"
      ]
     },
     "execution_count": 98,
     "metadata": {},
     "output_type": "execute_result"
    }
   ],
   "source": [
    "from sklearn.svm import SVC\n",
    "\n",
    "#sv = SVC(probability=True,kernel='linear',C=5)\n",
    "#sv = SVC(probability=True,kernel='poly',C=5)\n",
    "sv = SVC(probability=True,kernel='rbf',C=5)\n",
    "sv.fit(x_test, y_test)\n",
    "sv.score(x_test,y_test)"
   ]
  },
  {
   "cell_type": "markdown",
   "metadata": {},
   "source": [
    "### Random Forest"
   ]
  },
  {
   "cell_type": "code",
   "execution_count": 99,
   "metadata": {},
   "outputs": [
    {
     "data": {
      "text/plain": [
       "0.9487179487179487"
      ]
     },
     "execution_count": 99,
     "metadata": {},
     "output_type": "execute_result"
    }
   ],
   "source": [
    "from sklearn import ensemble\n",
    "\n",
    "rf = ensemble.RandomForestClassifier(n_estimators=1000)\n",
    "rf.fit(x_train,y_train)\n",
    "rf.score(x_test,y_test)"
   ]
  },
  {
   "cell_type": "markdown",
   "metadata": {},
   "source": [
    "### K-NN"
   ]
  },
  {
   "cell_type": "code",
   "execution_count": 100,
   "metadata": {},
   "outputs": [
    {
     "data": {
      "text/plain": [
       "0.8974358974358975"
      ]
     },
     "execution_count": 100,
     "metadata": {},
     "output_type": "execute_result"
    }
   ],
   "source": [
    "from sklearn.neighbors import KNeighborsClassifier\n",
    "\n",
    "knn=KNeighborsClassifier(n_neighbors=21)\n",
    "knn.fit(x_train,y_train)\n",
    "knn.score(x_test,y_test)\n"
   ]
  },
  {
   "cell_type": "markdown",
   "metadata": {},
   "source": [
    "### Probabilities for our prediction"
   ]
  },
  {
   "cell_type": "code",
   "execution_count": 101,
   "metadata": {},
   "outputs": [],
   "source": [
    "random_probs=[0 for _ in range(len(y_test))]\n",
    "\n",
    "nb_probs=nb.predict_proba(x_test)\n",
    "rf_probs=rf.predict_proba(x_test)\n",
    "knn_probs=knn.predict_proba(x_test)\n",
    "lr_probs=lr.predict_proba(x_test)\n",
    "sv_probs=sv.predict_proba(x_test)\n"
   ]
  },
  {
   "cell_type": "markdown",
   "metadata": {},
   "source": [
    "### Probabilities for one outcome "
   ]
  },
  {
   "cell_type": "code",
   "execution_count": 102,
   "metadata": {},
   "outputs": [],
   "source": [
    "# Happy is represented by 1, we can find the probability for this outcome \n",
    "\n",
    "nb_probs=nb_probs[:,1]\n",
    "rf_probs=rf_probs[:,1]\n",
    "knn_probs=knn_probs[:,1]\n",
    "lr_probs=lr_probs[:,1]\n",
    "sv_probs=sv_probs[:,1]"
   ]
  },
  {
   "cell_type": "markdown",
   "metadata": {},
   "source": [
    "### Finding AUROC Scores"
   ]
  },
  {
   "cell_type": "code",
   "execution_count": 103,
   "metadata": {},
   "outputs": [],
   "source": [
    "from sklearn.metrics import roc_curve, roc_auc_score\n",
    "\n",
    "# Random chance that splits data into two\n",
    "random_auc = roc_auc_score(y_test,random_probs)\n",
    "\n",
    "# Area under the curve for all other classifiers we tested\n",
    "nb_auc = roc_auc_score(y_test,nb_probs)\n",
    "rf_auc = roc_auc_score(y_test,rf_probs)\n",
    "knn_auc = roc_auc_score(y_test,knn_probs)\n",
    "lr_auc = roc_auc_score(y_test,lr_probs)\n",
    "sv_auc = roc_auc_score(y_test,sv_probs)"
   ]
  },
  {
   "cell_type": "markdown",
   "metadata": {},
   "source": [
    "### Calculating the ROC Curve"
   ]
  },
  {
   "cell_type": "code",
   "execution_count": 104,
   "metadata": {},
   "outputs": [],
   "source": [
    "# Calculates ROC curve for a random chance that splits data into two\n",
    "random_fpr, random_tpr, _ = roc_curve(y_test,random_probs)\n",
    "\n",
    "# Calculates ROC curve for all other classifiers\n",
    "nb_fpr, nb_tpr, _ = roc_curve(y_test,nb_probs)\n",
    "rf_fpr, rf_tpr, _ = roc_curve(y_test,rf_probs)\n",
    "knn_fpr, knn_tpr, _ = roc_curve(y_test,knn_probs)\n",
    "lr_fpr, lr_tpr, _ = roc_curve(y_test,lr_probs)\n",
    "sv_fpr, sv_tpr, _ = roc_curve(y_test,sv_probs)"
   ]
  },
  {
   "cell_type": "markdown",
   "metadata": {},
   "source": [
    "### ROC plot for all classification algorithms"
   ]
  },
  {
   "cell_type": "code",
   "execution_count": 105,
   "metadata": {},
   "outputs": [
    {
     "data": {
      "image/png": "[encoded data removed]",
      "text/plain": [
       "<Figure size 1080x720 with 1 Axes>"
      ]
     },
     "metadata": {
      "needs_background": "light"
     },
     "output_type": "display_data"
    }
   ],
   "source": [
    "import matplotlib.pyplot as plt\n",
    "\n",
    "plt.figure(figsize=(15,10))\n",
    "\n",
    "plt.plot(random_fpr, random_tpr, linestyle='--', label='Random Chance' %random_auc)\n",
    "plt.plot(nb_fpr, nb_tpr, linestyle='--', label='Naive Bayes' %nb_auc)\n",
    "plt.plot(rf_fpr, rf_tpr, linestyle='--', label='Random Forest' %rf_auc)\n",
    "plt.plot(knn_fpr, knn_tpr, linestyle='--', label='K-NN' %knn_auc)\n",
    "plt.plot(lr_fpr, lr_tpr, linestyle='--', label='Logistic Regression' %lr_auc)\n",
    "plt.plot(sv_fpr, sv_tpr, linestyle='--', label='SVM' %sv_auc)\n",
    "\n",
    "plt.title('ROC Plot for all Classification Algorithms')\n",
    "\n",
    "plt.xlabel('False Positive Rate')\n",
    "plt.ylabel('True Positive Rate')\n",
    "\n",
    "plt.legend()\n",
    "plt.show()"
   ]
  },
  {
   "cell_type": "markdown",
   "metadata": {},
   "source": [
    "### Printing AUROC Values"
   ]
  },
  {
   "cell_type": "code",
   "execution_count": 106,
   "metadata": {},
   "outputs": [
    {
     "name": "stdout",
     "output_type": "stream",
     "text": [
      "Random Chance AUROC = 0.500000\n",
      "Naive Bayes AUROC = 0.961957\n",
      "Random Forest AUROC = 0.972826\n",
      "K-NN AUROC = 0.948370\n",
      "Logistic Regression AUROC = 0.948370\n",
      "SVM = 1.000000\n"
     ]
    }
   ],
   "source": [
    "\n",
    "print('Random Chance AUROC = %3f' %(random_auc))\n",
    "\n",
    "print('Naive Bayes AUROC = %3f' %(nb_auc))\n",
    "print('Random Forest AUROC = %3f' %(rf_auc))\n",
    "print('K-NN AUROC = %3f' %(knn_auc))\n",
    "print('Logistic Regression AUROC = %3f' %(lr_auc))\n",
    "print('SVM = %3f' %(sv_auc))\n"
   ]
  },
  {
   "cell_type": "code",
   "execution_count": null,
   "metadata": {},
   "outputs": [],
   "source": []
  }
 ],
 "metadata": {
  "kernelspec": {
   "display_name": "Python 3",
   "language": "python",
   "name": "python3"
  },
  "language_info": {
   "codemirror_mode": {
    "name": "ipython",
    "version": 3
   },
   "file_extension": ".py",
   "mimetype": "text/x-python",
   "name": "python",
   "nbconvert_exporter": "python",
   "pygments_lexer": "ipython3",
   "version": "3.8.3"
  }
 },
 "nbformat": 4,
 "nbformat_minor": 4
}
